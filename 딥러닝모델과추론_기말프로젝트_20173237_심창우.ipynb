{
 "cells": [
  {
   "cell_type": "markdown",
   "metadata": {
    "id": "nXRXV83s7urz"
   },
   "source": [
    "# 딥러닝모델과추론 기말프로젝트\n",
    "\n",
    "- 딥러닝모델과 추론\n",
    "- 데이터과학융합스쿨 20173237 심창우"
   ]
  },
  {
   "cell_type": "code",
   "execution_count": 105,
   "metadata": {
    "id": "8_O08xD57ur0"
   },
   "outputs": [],
   "source": [
    "import numpy as np\n",
    "from keras.models import Sequential\n",
    "from keras.layers import Dense\n",
    "import matplotlib.pyplot as plt\n",
    "import pandas as pd\n",
    "from sklearn import preprocessing"
   ]
  },
  {
   "cell_type": "code",
   "execution_count": 106,
   "metadata": {
    "id": "UESEKa407ur0"
   },
   "outputs": [],
   "source": [
    "data = pd.read_csv(\"C:/Users/lkisa/Downloads/HN16_ALL.csv\")\n",
    "\n",
    "############################################################## 회귀모델\n",
    "# 허리둘레 - BMI 데이터 2차원 배열로 변환\n",
    "HE_BMI = data[[\"HE_wc\", \"HE_BMI\"]]\n",
    "HE_BMI = HE_BMI.replace('', -1)\n",
    "HE_BMI = HE_BMI.replace(' ', -1)\n",
    "HE_BMI = HE_BMI.astype(float)\n",
    "HE_BMI = HE_BMI[data.HE_wc != -1]\n",
    "HE_BMI = HE_BMI[data.HE_BMI != -1]\n",
    "\n",
    "HE_wc = np.array(HE_BMI[\"HE_wc\"].astype(float))\n",
    "HE_BMI = np.array(HE_BMI[\"HE_BMI\"].astype(float))\n",
    "\n",
    "HE_wc = HE_wc.reshape(len(HE_wc), 1)\n",
    "HE_BMI = HE_BMI.reshape(len(HE_BMI), 1)\n",
    "\n",
    "# 허리둘레 - BMI정규화\n",
    "mm_scaler_HE_BMI = preprocessing.MinMaxScaler()\n",
    "HE_wc = mm_scaler_HE_BMI.fit_transform(HE_wc)\n",
    "HE_BMI = mm_scaler_HE_BMI.transform(HE_BMI)\n",
    "\n",
    "\n",
    "############################################################## 분류모델\n",
    "# 데이터 전처리\n",
    "HE_HCHOL = data[[\"age\",  \"HE_chol\", \"HE_HCHOL\"]]\n",
    "HE_HCHOL = HE_HCHOL.replace('', -1)\n",
    "HE_HCHOL = HE_HCHOL.replace(' ', -1)\n",
    "HE_HCHOL = HE_HCHOL.astype(float)\n",
    "HE_HCHOL = HE_HCHOL[data.age != -1]\n",
    "HE_HCHOL = HE_HCHOL[data.HE_chol != -1]\n",
    "HE_HCHOL = HE_HCHOL[HE_HCHOL.age != -1]\n",
    "\n",
    "# 19세 이상만 필터링\n",
    "data = HE_HCHOL[HE_HCHOL['age'] >= 19]\n",
    "\n",
    "# float, int 변경\n",
    "HE_chol = np.array(data[\"HE_chol\"].astype(float))\n",
    "HE_HCHOL = np.array(data[\"HE_HCHOL\"].astype(int))\n",
    "\n",
    "HE_chol = HE_chol.reshape(len(HE_chol), 1)\n",
    "HE_HCHOL = HE_HCHOL.reshape(len(HE_HCHOL), 1)\n",
    "\n",
    "# BMI - 고콜레스테롤혈증 유무 졍규화. 콜레스테롤 유무는 1, 0값이기 때문에 하지 않음\n",
    "mm_scaler_fat = preprocessing.MinMaxScaler()\n",
    "HE_chol = mm_scaler_fat.fit_transform(HE_chol)\n",
    "\n"
   ]
  },
  {
   "cell_type": "code",
   "execution_count": 107,
   "metadata": {
    "colab": {
     "base_uri": "https://localhost:8080/"
    },
    "id": "CHhqi0f47ur0",
    "outputId": "dec0b363-0228-45fe-dd7f-d9acbbfc71f2"
   },
   "outputs": [
    {
     "name": "stdout",
     "output_type": "stream",
     "text": [
      "Model: \"sequential_11\"\n",
      "_________________________________________________________________\n",
      "Layer (type)                 Output Shape              Param #   \n",
      "=================================================================\n",
      "dense_20 (Dense)             (None, 1)                 2         \n",
      "=================================================================\n",
      "Total params: 2\n",
      "Trainable params: 2\n",
      "Non-trainable params: 0\n",
      "_________________________________________________________________\n",
      "Model: \"sequential_12\"\n",
      "_________________________________________________________________\n",
      "Layer (type)                 Output Shape              Param #   \n",
      "=================================================================\n",
      "dense_21 (Dense)             (None, 1)                 2         \n",
      "_________________________________________________________________\n",
      "dense_22 (Dense)             (None, 1)                 2         \n",
      "=================================================================\n",
      "Total params: 4\n",
      "Trainable params: 4\n",
      "Non-trainable params: 0\n",
      "_________________________________________________________________\n"
     ]
    }
   ],
   "source": [
    "# 허리둘레 - BMI 모델\n",
    "model_BMI = Sequential()\n",
    "model_BMI.add(Dense(1, input_dim=1))\n",
    "\n",
    "model_BMI.summary()\n",
    "\n",
    "\n",
    "# 고콜레스테롤혈증 \n",
    "model_fat = Sequential()\n",
    "\n",
    "# relu -> 0 또는 1이기 때문에 activation sigmoid 사용\n",
    "model_fat.add(Dense(1, input_dim=1, activation='relu'))\n",
    "model_fat.add(Dense(1, activation='sigmoid'))\n",
    "\n",
    "model_fat.summary()"
   ]
  },
  {
   "cell_type": "code",
   "execution_count": 108,
   "metadata": {
    "id": "GbsDTyYG7ur1"
   },
   "outputs": [],
   "source": [
    "# 허리둘레 - BMI 모델 컴파일\n",
    "model_BMI.compile(loss='mse', optimizer='sgd') \n",
    "\n",
    "# 고콜레스테롤혈증 - 고콜레스테롤혈증 모델 컴파일. 결과값이 0 또는 1 즉 이진분류이기 때문에 binary_crossentropy 사용함\n",
    "model_fat.compile(loss='binary_crossentropy', optimizer='sgd') "
   ]
  },
  {
   "cell_type": "code",
   "execution_count": 109,
   "metadata": {
    "id": "dVMHU7M77ur1"
   },
   "outputs": [],
   "source": [
    "# 허리둘레 - BMI 모델 적합 (model fitting)\n",
    "fit = model_BMI.fit(HE_wc, HE_BMI, epochs=30, batch_size=20, verbose=False)\n",
    "\n",
    "\n",
    "# 고콜레스테롤혈증 - 고콜레스테롤혈증 모델 적합 (model fitting)\n",
    "fit = model_fat.fit(HE_chol, HE_HCHOL, epochs=30, batch_size=20, verbose=False)\n"
   ]
  },
  {
   "cell_type": "code",
   "execution_count": 111,
   "metadata": {
    "colab": {
     "base_uri": "https://localhost:8080/"
    },
    "id": "i0EncTWa7ur1",
    "outputId": "6fdf0ba8-4b8e-49bd-bb6d-46dec43ee0c8"
   },
   "outputs": [
    {
     "name": "stdout",
     "output_type": "stream",
     "text": [
      "1번) 허리둘레가 80  일 때 예측 BMI는 약 23 이다\n",
      "2번) 콜레스테롤 수치가 100 일 때 고콜레스테롤혈증에 걸릴 확률은 8 % 이다\n"
     ]
    }
   ],
   "source": [
    "# 허리둘레 입력\n",
    "input_wc = 80\n",
    "input_mm_BMI = mm_scaler_HE_BMI.transform(np.array([input_wc]).reshape(-1, 1))\n",
    "\n",
    "BMI_predict = model_BMI.predict(input_mm_BMI)\n",
    "BMI_predict = mm_scaler_HE_BMI.inverse_transform(BMI_predict)\n",
    "print(\"1번)\", \"허리둘레가\", input_wc, \" 일 때 예측 BMI는 약\", round(BMI_predict[0][0]), \"이다\")\n",
    "\n",
    "# 콜레스테롤 입력 \n",
    "input_chol = 100\n",
    "\n",
    "input_mm_fat = mm_scaler_fat.transform(np.array([input_chol]).reshape(-1, 1))\n",
    "fat_predict = model_fat.predict(input_mm_fat)\n",
    "print(\"2번)\", \"콜레스테롤 수치가\", input_chol, \"일 때 고콜레스테롤혈증에 걸릴 확률은\", round(fat_predict[0][0]*100), \"% 이다\")"
   ]
  },
  {
   "cell_type": "code",
   "execution_count": null,
   "metadata": {
    "id": "g7OA7pmF7ur2"
   },
   "outputs": [],
   "source": [
    "결론 : 이번 과제를 계기로 다양한 변수들을 다루어 보면서, 상관관계가 있는지 없는지 \n",
    "    직접 하나하나 대입해보며 재미를 느꼈다. R만을 배웠지만 파이썬을 배우게 되어 매우 유익한 강의였다.\n",
    "    직접 변수를 골라서 작업하는 과정은 흥미로웠고, 미래를 꿈꿀 수 있는 시간이었다."
   ]
  }
 ],
 "metadata": {
  "colab": {
   "collapsed_sections": [],
   "name": "딥러닝 모델과 추론 과제 4.ipynb",
   "provenance": [],
   "toc_visible": true
  },
  "kernelspec": {
   "display_name": "Python 3",
   "language": "python",
   "name": "python3"
  },
  "language_info": {
   "codemirror_mode": {
    "name": "ipython",
    "version": 3
   },
   "file_extension": ".py",
   "mimetype": "text/x-python",
   "name": "python",
   "nbconvert_exporter": "python",
   "pygments_lexer": "ipython3",
   "version": "3.8.5"
  }
 },
 "nbformat": 4,
 "nbformat_minor": 1
}
